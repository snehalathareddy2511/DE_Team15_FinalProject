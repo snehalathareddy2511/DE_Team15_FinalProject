{
 "cells": [
  {
   "cell_type": "code",
   "execution_count": 1,
   "id": "d1d98fe8",
   "metadata": {
    "ExecuteTime": {
     "end_time": "2023-04-26T20:34:13.333874Z",
     "start_time": "2023-04-26T20:34:13.293450Z"
    }
   },
   "outputs": [],
   "source": [
    "import pandas as pd\n",
    "import numpy as np\n",
    "import matplotlib.pyplot as plt\n"
   ]
  },
  {
   "cell_type": "code",
   "execution_count": 41,
   "id": "af1b7eca",
   "metadata": {
    "ExecuteTime": {
     "end_time": "2023-04-26T20:34:13.739687Z",
     "start_time": "2023-04-26T20:34:13.667408Z"
    }
   },
   "outputs": [],
   "source": [
    "claimants=pd.read_csv(\"C:/Users/ajay/OneDrive/Desktop/Team8-DE final project - Copy/claimants.csv\")\n"
   ]
  },
  {
   "cell_type": "code",
   "execution_count": 3,
   "id": "941a9322",
   "metadata": {
    "ExecuteTime": {
     "end_time": "2023-04-26T20:34:14.135710Z",
     "start_time": "2023-04-26T20:34:14.045887Z"
    }
   },
   "outputs": [
    {
     "name": "stdout",
     "output_type": "stream",
     "text": [
      "      ATTORNEY  CLMSEX  CLMINSUR  SEATBELT  CLMAGE    LOSS\n",
      "0            0     0.0       1.0       0.0    50.0  34.940\n",
      "1            1     1.0       0.0       0.0    18.0   0.891\n",
      "2            1     0.0       1.0       0.0     5.0   0.330\n",
      "3            0     0.0       1.0       1.0    31.0   0.037\n",
      "4            1     0.0       1.0       0.0    30.0   0.038\n",
      "...        ...     ...       ...       ...     ...     ...\n",
      "1335         1     0.0       1.0       0.0     NaN   0.576\n",
      "1336         0     1.0       1.0       0.0    46.0   3.705\n",
      "1337         1     1.0       1.0       0.0    39.0   0.099\n",
      "1338         0     1.0       0.0       0.0     8.0   3.177\n",
      "1339         1     1.0       1.0       0.0    30.0   0.688\n",
      "\n",
      "[1340 rows x 6 columns]\n",
      "          ATTORNEY       CLMSEX     CLMINSUR     SEATBELT       CLMAGE   \n",
      "count  1340.000000  1328.000000  1299.000000  1292.000000  1151.000000  \\\n",
      "mean      0.488806     0.558735     0.907621     0.017028    28.414422   \n",
      "std       0.500061     0.496725     0.289671     0.129425    20.304451   \n",
      "min       0.000000     0.000000     0.000000     0.000000     0.000000   \n",
      "25%       0.000000     0.000000     1.000000     0.000000     9.000000   \n",
      "50%       0.000000     1.000000     1.000000     0.000000    30.000000   \n",
      "75%       1.000000     1.000000     1.000000     0.000000    43.000000   \n",
      "max       1.000000     1.000000     1.000000     1.000000    95.000000   \n",
      "\n",
      "              LOSS  \n",
      "count  1340.000000  \n",
      "mean      3.806307  \n",
      "std      10.636903  \n",
      "min       0.000000  \n",
      "25%       0.400000  \n",
      "50%       1.069500  \n",
      "75%       3.781500  \n",
      "max     173.604000  \n"
     ]
    },
    {
     "data": {
      "text/plain": [
       "ATTORNEY      0\n",
       "CLMSEX       12\n",
       "CLMINSUR     41\n",
       "SEATBELT     48\n",
       "CLMAGE      189\n",
       "LOSS          0\n",
       "dtype: int64"
      ]
     },
     "execution_count": 3,
     "metadata": {},
     "output_type": "execute_result"
    }
   ],
   "source": [
    "#Removing CASENUM\n",
    "c1= claimants.drop('CASENUM',axis=1)\n",
    "print(c1)\n",
    "print(c1.describe())\n",
    "c1.isna().sum()"
   ]
  },
  {
   "cell_type": "code",
   "execution_count": 4,
   "id": "5465d233",
   "metadata": {
    "ExecuteTime": {
     "end_time": "2023-04-26T20:34:14.499100Z",
     "start_time": "2023-04-26T20:34:14.466998Z"
    }
   },
   "outputs": [
    {
     "name": "stdout",
     "output_type": "stream",
     "text": [
      "      CASENUM  ATTORNEY  CLMSEX  CLMINSUR  SEATBELT  CLMAGE    LOSS\n",
      "0           5         0     0.0       1.0       0.0    50.0  34.940\n",
      "1           3         1     1.0       0.0       0.0    18.0   0.891\n",
      "2          66         1     0.0       1.0       0.0     5.0   0.330\n",
      "3          70         0     0.0       1.0       1.0    31.0   0.037\n",
      "4          96         1     0.0       1.0       0.0    30.0   0.038\n",
      "...       ...       ...     ...       ...       ...     ...     ...\n",
      "1334    34104         1     1.0       1.0       0.0    16.0   0.060\n",
      "1336    34110         0     1.0       1.0       0.0    46.0   3.705\n",
      "1337    34113         1     1.0       1.0       0.0    39.0   0.099\n",
      "1338    34145         0     1.0       0.0       0.0     8.0   3.177\n",
      "1339    34153         1     1.0       1.0       0.0    30.0   0.688\n",
      "\n",
      "[1096 rows x 7 columns]\n"
     ]
    }
   ],
   "source": [
    "#To drop Nan Values\n",
    "df= claimants.dropna()\n",
    "print(df)"
   ]
  },
  {
   "cell_type": "code",
   "execution_count": 5,
   "id": "64fba2c3",
   "metadata": {
    "ExecuteTime": {
     "end_time": "2023-04-26T20:34:14.903448Z",
     "start_time": "2023-04-26T20:34:14.862478Z"
    }
   },
   "outputs": [
    {
     "name": "stdout",
     "output_type": "stream",
     "text": [
      "      ATTORNEY  CLMSEX  CLMINSUR  SEATBELT     CLMAGE    LOSS\n",
      "0            0     0.0       1.0       0.0  50.000000  34.940\n",
      "1            1     1.0       0.0       0.0  18.000000   0.891\n",
      "2            1     0.0       1.0       0.0   5.000000   0.330\n",
      "3            0     0.0       1.0       1.0  31.000000   0.037\n",
      "4            1     0.0       1.0       0.0  30.000000   0.038\n",
      "...        ...     ...       ...       ...        ...     ...\n",
      "1335         1     0.0       1.0       0.0  28.414422   0.576\n",
      "1336         0     1.0       1.0       0.0  46.000000   3.705\n",
      "1337         1     1.0       1.0       0.0  39.000000   0.099\n",
      "1338         0     1.0       0.0       0.0   8.000000   3.177\n",
      "1339         1     1.0       1.0       0.0  30.000000   0.688\n",
      "\n",
      "[1340 rows x 6 columns]\n"
     ]
    }
   ],
   "source": [
    "# To avoid droping missing values, we can go with Mean Imputation\n",
    "# Mean Imputation- CLMAGE is a contionous data\n",
    "mean_value=c1.CLMAGE.mean()\n",
    "mean_value\n",
    "c1.CLMAGE = c1.CLMAGE.fillna(mean_value)\n",
    "c1.CLMAGE.isna().sum()\n",
    "print(c1)\n"
   ]
  },
  {
   "cell_type": "code",
   "execution_count": 6,
   "id": "54de9ddc",
   "metadata": {
    "ExecuteTime": {
     "end_time": "2023-04-26T20:34:15.267384Z",
     "start_time": "2023-04-26T20:34:15.244628Z"
    }
   },
   "outputs": [
    {
     "data": {
      "text/plain": [
       "0"
      ]
     },
     "execution_count": 6,
     "metadata": {},
     "output_type": "execute_result"
    }
   ],
   "source": [
    "# Mode Imputation - for Discrete variables\n",
    "# CLMSEX\n",
    "mode_CLMSEX= c1.CLMSEX.mode()\n",
    "mode_CLMSEX\n",
    "c1.CLMSEX = c1.CLMSEX.fillna((mode_CLMSEX[0]))\n",
    "c1.CLMSEX.isna().sum()"
   ]
  },
  {
   "cell_type": "code",
   "execution_count": 7,
   "id": "1016a013",
   "metadata": {
    "ExecuteTime": {
     "end_time": "2023-04-26T20:34:15.657969Z",
     "start_time": "2023-04-26T20:34:15.625336Z"
    }
   },
   "outputs": [
    {
     "data": {
      "text/plain": [
       "0"
      ]
     },
     "execution_count": 7,
     "metadata": {},
     "output_type": "execute_result"
    }
   ],
   "source": [
    "# SEATBELT\n",
    "mode_SEATBELT=c1['SEATBELT'].mode()\n",
    "mode_SEATBELT\n",
    "c1['SEATBELT']=c1['SEATBELT'].fillna((mode_SEATBELT)[0])\n",
    "c1.SEATBELT.isna().sum()"
   ]
  },
  {
   "cell_type": "code",
   "execution_count": 8,
   "id": "1353aff2",
   "metadata": {
    "ExecuteTime": {
     "end_time": "2023-04-26T20:34:16.063885Z",
     "start_time": "2023-04-26T20:34:16.044926Z"
    }
   },
   "outputs": [
    {
     "data": {
      "text/plain": [
       "0"
      ]
     },
     "execution_count": 8,
     "metadata": {},
     "output_type": "execute_result"
    }
   ],
   "source": [
    "# CLMINSUR\n",
    "mode_INSUR = c1['CLMINSUR'].mode()\n",
    "mode_INSUR\n",
    "c1['CLMINSUR']=c1['CLMINSUR'].fillna((mode_SEATBELT)[0])\n",
    "c1.CLMINSUR.isna().sum()"
   ]
  },
  {
   "cell_type": "code",
   "execution_count": 9,
   "id": "acd55f42",
   "metadata": {
    "ExecuteTime": {
     "end_time": "2023-04-26T20:34:16.498960Z",
     "start_time": "2023-04-26T20:34:16.434172Z"
    }
   },
   "outputs": [
    {
     "name": "stdout",
     "output_type": "stream",
     "text": [
      "Optimization terminated successfully.\n",
      "         Current function value: 0.608590\n",
      "         Iterations 7\n"
     ]
    }
   ],
   "source": [
    "# MODEL BUILDING\n",
    "import statsmodels.formula.api as sm\n",
    "logit_model = sm.logit('ATTORNEY ~ CLMAGE + LOSS + CLMINSUR + CLMSEX + SEATBELT', data=c1).fit()"
   ]
  },
  {
   "cell_type": "code",
   "execution_count": 10,
   "id": "ca6c9a5f",
   "metadata": {
    "ExecuteTime": {
     "end_time": "2023-04-26T20:34:16.902355Z",
     "start_time": "2023-04-26T20:34:16.853780Z"
    }
   },
   "outputs": [
    {
     "data": {
      "text/html": [
       "<table class=\"simpletable\">\n",
       "<caption>Logit Regression Results</caption>\n",
       "<tr>\n",
       "  <th>Dep. Variable:</th>       <td>ATTORNEY</td>     <th>  No. Observations:  </th>  <td>  1340</td>  \n",
       "</tr>\n",
       "<tr>\n",
       "  <th>Model:</th>                 <td>Logit</td>      <th>  Df Residuals:      </th>  <td>  1334</td>  \n",
       "</tr>\n",
       "<tr>\n",
       "  <th>Method:</th>                 <td>MLE</td>       <th>  Df Model:          </th>  <td>     5</td>  \n",
       "</tr>\n",
       "<tr>\n",
       "  <th>Date:</th>            <td>Sat, 29 Apr 2023</td> <th>  Pseudo R-squ.:     </th>  <td>0.1217</td>  \n",
       "</tr>\n",
       "<tr>\n",
       "  <th>Time:</th>                <td>10:21:18</td>     <th>  Log-Likelihood:    </th> <td> -815.51</td> \n",
       "</tr>\n",
       "<tr>\n",
       "  <th>converged:</th>             <td>True</td>       <th>  LL-Null:           </th> <td> -928.48</td> \n",
       "</tr>\n",
       "<tr>\n",
       "  <th>Covariance Type:</th>     <td>nonrobust</td>    <th>  LLR p-value:       </th> <td>7.921e-47</td>\n",
       "</tr>\n",
       "</table>\n",
       "<table class=\"simpletable\">\n",
       "<tr>\n",
       "      <td></td>         <th>coef</th>     <th>std err</th>      <th>z</th>      <th>P>|z|</th>  <th>[0.025</th>    <th>0.975]</th>  \n",
       "</tr>\n",
       "<tr>\n",
       "  <th>Intercept</th> <td>   -0.1147</td> <td>    0.202</td> <td>   -0.567</td> <td> 0.571</td> <td>   -0.511</td> <td>    0.282</td>\n",
       "</tr>\n",
       "<tr>\n",
       "  <th>CLMAGE</th>    <td>    0.0065</td> <td>    0.003</td> <td>    2.037</td> <td> 0.042</td> <td>    0.000</td> <td>    0.013</td>\n",
       "</tr>\n",
       "<tr>\n",
       "  <th>LOSS</th>      <td>   -0.3236</td> <td>    0.030</td> <td>  -10.965</td> <td> 0.000</td> <td>   -0.381</td> <td>   -0.266</td>\n",
       "</tr>\n",
       "<tr>\n",
       "  <th>CLMINSUR</th>  <td>    0.5134</td> <td>    0.184</td> <td>    2.791</td> <td> 0.005</td> <td>    0.153</td> <td>    0.874</td>\n",
       "</tr>\n",
       "<tr>\n",
       "  <th>CLMSEX</th>    <td>    0.3176</td> <td>    0.120</td> <td>    2.649</td> <td> 0.008</td> <td>    0.083</td> <td>    0.553</td>\n",
       "</tr>\n",
       "<tr>\n",
       "  <th>SEATBELT</th>  <td>   -0.6877</td> <td>    0.523</td> <td>   -1.316</td> <td> 0.188</td> <td>   -1.712</td> <td>    0.336</td>\n",
       "</tr>\n",
       "</table>"
      ],
      "text/plain": [
       "<class 'statsmodels.iolib.summary.Summary'>\n",
       "\"\"\"\n",
       "                           Logit Regression Results                           \n",
       "==============================================================================\n",
       "Dep. Variable:               ATTORNEY   No. Observations:                 1340\n",
       "Model:                          Logit   Df Residuals:                     1334\n",
       "Method:                           MLE   Df Model:                            5\n",
       "Date:                Sat, 29 Apr 2023   Pseudo R-squ.:                  0.1217\n",
       "Time:                        10:21:18   Log-Likelihood:                -815.51\n",
       "converged:                       True   LL-Null:                       -928.48\n",
       "Covariance Type:            nonrobust   LLR p-value:                 7.921e-47\n",
       "==============================================================================\n",
       "                 coef    std err          z      P>|z|      [0.025      0.975]\n",
       "------------------------------------------------------------------------------\n",
       "Intercept     -0.1147      0.202     -0.567      0.571      -0.511       0.282\n",
       "CLMAGE         0.0065      0.003      2.037      0.042       0.000       0.013\n",
       "LOSS          -0.3236      0.030    -10.965      0.000      -0.381      -0.266\n",
       "CLMINSUR       0.5134      0.184      2.791      0.005       0.153       0.874\n",
       "CLMSEX         0.3176      0.120      2.649      0.008       0.083       0.553\n",
       "SEATBELT      -0.6877      0.523     -1.316      0.188      -1.712       0.336\n",
       "==============================================================================\n",
       "\"\"\""
      ]
     },
     "execution_count": 10,
     "metadata": {},
     "output_type": "execute_result"
    }
   ],
   "source": [
    "# Summary\n",
    "logit_model.summary()"
   ]
  },
  {
   "cell_type": "code",
   "execution_count": 11,
   "id": "1d0c15e8",
   "metadata": {
    "ExecuteTime": {
     "end_time": "2023-04-26T20:34:17.287668Z",
     "start_time": "2023-04-26T20:34:17.231022Z"
    }
   },
   "outputs": [
    {
     "data": {
      "text/html": [
       "<table class=\"simpletable\">\n",
       "<tr>\n",
       "        <td>Model:</td>              <td>Logit</td>      <td>Pseudo R-squared:</td>    <td>0.122</td>  \n",
       "</tr>\n",
       "<tr>\n",
       "  <td>Dependent Variable:</td>     <td>ATTORNEY</td>           <td>AIC:</td>         <td>1643.0201</td>\n",
       "</tr>\n",
       "<tr>\n",
       "         <td>Date:</td>        <td>2023-04-29 10:21</td>       <td>BIC:</td>         <td>1674.2227</td>\n",
       "</tr>\n",
       "<tr>\n",
       "   <td>No. Observations:</td>        <td>1340</td>        <td>Log-Likelihood:</td>    <td>-815.51</td> \n",
       "</tr>\n",
       "<tr>\n",
       "       <td>Df Model:</td>              <td>5</td>            <td>LL-Null:</td>        <td>-928.48</td> \n",
       "</tr>\n",
       "<tr>\n",
       "     <td>Df Residuals:</td>          <td>1334</td>         <td>LLR p-value:</td>    <td>7.9206e-47</td>\n",
       "</tr>\n",
       "<tr>\n",
       "      <td>Converged:</td>           <td>1.0000</td>           <td>Scale:</td>         <td>1.0000</td>  \n",
       "</tr>\n",
       "<tr>\n",
       "    <td>No. Iterations:</td>        <td>7.0000</td>              <td></td>               <td></td>     \n",
       "</tr>\n",
       "</table>\n",
       "<table class=\"simpletable\">\n",
       "<tr>\n",
       "      <td></td>       <th>Coef.</th>  <th>Std.Err.</th>     <th>z</th>     <th>P>|z|</th> <th>[0.025</th>  <th>0.975]</th> \n",
       "</tr>\n",
       "<tr>\n",
       "  <th>Intercept</th> <td>-0.1147</td>  <td>0.2023</td>   <td>-0.5671</td> <td>0.5706</td> <td>-0.5111</td> <td>0.2817</td> \n",
       "</tr>\n",
       "<tr>\n",
       "  <th>CLMAGE</th>    <td>0.0065</td>   <td>0.0032</td>   <td>2.0366</td>  <td>0.0417</td> <td>0.0002</td>  <td>0.0128</td> \n",
       "</tr>\n",
       "<tr>\n",
       "  <th>LOSS</th>      <td>-0.3236</td>  <td>0.0295</td>  <td>-10.9654</td> <td>0.0000</td> <td>-0.3815</td> <td>-0.2658</td>\n",
       "</tr>\n",
       "<tr>\n",
       "  <th>CLMINSUR</th>  <td>0.5134</td>   <td>0.1840</td>   <td>2.7907</td>  <td>0.0053</td> <td>0.1528</td>  <td>0.8739</td> \n",
       "</tr>\n",
       "<tr>\n",
       "  <th>CLMSEX</th>    <td>0.3176</td>   <td>0.1199</td>   <td>2.6491</td>  <td>0.0081</td> <td>0.0826</td>  <td>0.5526</td> \n",
       "</tr>\n",
       "<tr>\n",
       "  <th>SEATBELT</th>  <td>-0.6877</td>  <td>0.5226</td>   <td>-1.3161</td> <td>0.1882</td> <td>-1.7119</td> <td>0.3365</td> \n",
       "</tr>\n",
       "</table>"
      ],
      "text/plain": [
       "<class 'statsmodels.iolib.summary2.Summary'>\n",
       "\"\"\"\n",
       "                         Results: Logit\n",
       "=================================================================\n",
       "Model:              Logit            Pseudo R-squared: 0.122     \n",
       "Dependent Variable: ATTORNEY         AIC:              1643.0201 \n",
       "Date:               2023-04-29 10:21 BIC:              1674.2227 \n",
       "No. Observations:   1340             Log-Likelihood:   -815.51   \n",
       "Df Model:           5                LL-Null:          -928.48   \n",
       "Df Residuals:       1334             LLR p-value:      7.9206e-47\n",
       "Converged:          1.0000           Scale:            1.0000    \n",
       "No. Iterations:     7.0000                                       \n",
       "------------------------------------------------------------------\n",
       "              Coef.   Std.Err.     z      P>|z|    [0.025   0.975]\n",
       "------------------------------------------------------------------\n",
       "Intercept    -0.1147    0.2023   -0.5671  0.5706  -0.5111   0.2817\n",
       "CLMAGE        0.0065    0.0032    2.0366  0.0417   0.0002   0.0128\n",
       "LOSS         -0.3236    0.0295  -10.9654  0.0000  -0.3815  -0.2658\n",
       "CLMINSUR      0.5134    0.1840    2.7907  0.0053   0.1528   0.8739\n",
       "CLMSEX        0.3176    0.1199    2.6491  0.0081   0.0826   0.5526\n",
       "SEATBELT     -0.6877    0.5226   -1.3161  0.1882  -1.7119   0.3365\n",
       "=================================================================\n",
       "\n",
       "\"\"\""
      ]
     },
     "execution_count": 11,
     "metadata": {},
     "output_type": "execute_result"
    }
   ],
   "source": [
    "# FOR AIC- Akakie Information Criteria\n",
    "# Lesser the AIC we will get better model\n",
    "logit_model.summary2()"
   ]
  },
  {
   "cell_type": "code",
   "execution_count": 12,
   "id": "aa0ead60",
   "metadata": {
    "ExecuteTime": {
     "end_time": "2023-04-26T20:34:17.664214Z",
     "start_time": "2023-04-26T20:34:17.631540Z"
    }
   },
   "outputs": [
    {
     "name": "stdout",
     "output_type": "stream",
     "text": [
      "0       0.000025\n",
      "1       0.507897\n",
      "2       0.580390\n",
      "3       0.475160\n",
      "4       0.641402\n",
      "          ...   \n",
      "1335    0.597974\n",
      "1336    0.454215\n",
      "1337    0.718662\n",
      "1338    0.315773\n",
      "1339    0.665675\n",
      "Length: 1340, dtype: float64\n"
     ]
    }
   ],
   "source": [
    "pred = logit_model.predict(c1.iloc[ : ,1: ])\n",
    "print(pred)"
   ]
  },
  {
   "cell_type": "code",
   "execution_count": 13,
   "id": "1b568d63",
   "metadata": {
    "ExecuteTime": {
     "end_time": "2023-04-26T20:34:18.061249Z",
     "start_time": "2023-04-26T20:34:18.037194Z"
    }
   },
   "outputs": [
    {
     "name": "stdout",
     "output_type": "stream",
     "text": [
      "320\n"
     ]
    },
    {
     "data": {
      "text/plain": [
       "0.5295156956581772"
      ]
     },
     "execution_count": 13,
     "metadata": {},
     "output_type": "execute_result"
    }
   ],
   "source": [
    "from sklearn import metrics\n",
    "from sklearn.metrics import roc_curve, auc\n",
    "fpr, tpr, thresholds = roc_curve(c1.ATTORNEY, pred)\n",
    "optimal_idx = np.argmax(tpr-fpr)\n",
    "print(optimal_idx)\n",
    "optimal_threshold = thresholds[optimal_idx]\n",
    "optimal_threshold"
   ]
  },
  {
   "cell_type": "code",
   "execution_count": 14,
   "id": "24d45b03",
   "metadata": {
    "ExecuteTime": {
     "end_time": "2023-04-26T20:34:18.530527Z",
     "start_time": "2023-04-26T20:34:18.481987Z"
    }
   },
   "outputs": [
    {
     "data": {
      "text/html": [
       "<div>\n",
       "<style scoped>\n",
       "    .dataframe tbody tr th:only-of-type {\n",
       "        vertical-align: middle;\n",
       "    }\n",
       "\n",
       "    .dataframe tbody tr th {\n",
       "        vertical-align: top;\n",
       "    }\n",
       "\n",
       "    .dataframe thead th {\n",
       "        text-align: right;\n",
       "    }\n",
       "</style>\n",
       "<table border=\"1\" class=\"dataframe\">\n",
       "  <thead>\n",
       "    <tr style=\"text-align: right;\">\n",
       "      <th></th>\n",
       "      <th>fpr</th>\n",
       "      <th>tpr</th>\n",
       "      <th>1-fpr</th>\n",
       "      <th>tf</th>\n",
       "      <th>thresholds</th>\n",
       "    </tr>\n",
       "  </thead>\n",
       "  <tbody>\n",
       "    <tr>\n",
       "      <th>0</th>\n",
       "      <td>0.000000</td>\n",
       "      <td>0.000000</td>\n",
       "      <td>1.000000</td>\n",
       "      <td>-1.000000</td>\n",
       "      <td>1.771826e+00</td>\n",
       "    </tr>\n",
       "    <tr>\n",
       "      <th>1</th>\n",
       "      <td>0.000000</td>\n",
       "      <td>0.001527</td>\n",
       "      <td>1.000000</td>\n",
       "      <td>-0.998473</td>\n",
       "      <td>7.718259e-01</td>\n",
       "    </tr>\n",
       "    <tr>\n",
       "      <th>2</th>\n",
       "      <td>0.000000</td>\n",
       "      <td>0.003053</td>\n",
       "      <td>1.000000</td>\n",
       "      <td>-0.996947</td>\n",
       "      <td>7.697785e-01</td>\n",
       "    </tr>\n",
       "    <tr>\n",
       "      <th>3</th>\n",
       "      <td>0.001460</td>\n",
       "      <td>0.003053</td>\n",
       "      <td>0.998540</td>\n",
       "      <td>-0.995487</td>\n",
       "      <td>7.613602e-01</td>\n",
       "    </tr>\n",
       "    <tr>\n",
       "      <th>4</th>\n",
       "      <td>0.001460</td>\n",
       "      <td>0.007634</td>\n",
       "      <td>0.998540</td>\n",
       "      <td>-0.990907</td>\n",
       "      <td>7.588282e-01</td>\n",
       "    </tr>\n",
       "    <tr>\n",
       "      <th>...</th>\n",
       "      <td>...</td>\n",
       "      <td>...</td>\n",
       "      <td>...</td>\n",
       "      <td>...</td>\n",
       "      <td>...</td>\n",
       "    </tr>\n",
       "    <tr>\n",
       "      <th>557</th>\n",
       "      <td>0.931387</td>\n",
       "      <td>0.996947</td>\n",
       "      <td>0.068613</td>\n",
       "      <td>0.928333</td>\n",
       "      <td>4.202859e-02</td>\n",
       "    </tr>\n",
       "    <tr>\n",
       "      <th>558</th>\n",
       "      <td>0.931387</td>\n",
       "      <td>0.998473</td>\n",
       "      <td>0.068613</td>\n",
       "      <td>0.929860</td>\n",
       "      <td>4.047960e-02</td>\n",
       "    </tr>\n",
       "    <tr>\n",
       "      <th>559</th>\n",
       "      <td>0.992701</td>\n",
       "      <td>0.998473</td>\n",
       "      <td>0.007299</td>\n",
       "      <td>0.991174</td>\n",
       "      <td>1.333337e-11</td>\n",
       "    </tr>\n",
       "    <tr>\n",
       "      <th>560</th>\n",
       "      <td>0.992701</td>\n",
       "      <td>1.000000</td>\n",
       "      <td>0.007299</td>\n",
       "      <td>0.992701</td>\n",
       "      <td>7.391740e-12</td>\n",
       "    </tr>\n",
       "    <tr>\n",
       "      <th>561</th>\n",
       "      <td>1.000000</td>\n",
       "      <td>1.000000</td>\n",
       "      <td>0.000000</td>\n",
       "      <td>1.000000</td>\n",
       "      <td>1.098372e-24</td>\n",
       "    </tr>\n",
       "  </tbody>\n",
       "</table>\n",
       "<p>562 rows × 5 columns</p>\n",
       "</div>"
      ],
      "text/plain": [
       "          fpr       tpr     1-fpr        tf    thresholds\n",
       "0    0.000000  0.000000  1.000000 -1.000000  1.771826e+00\n",
       "1    0.000000  0.001527  1.000000 -0.998473  7.718259e-01\n",
       "2    0.000000  0.003053  1.000000 -0.996947  7.697785e-01\n",
       "3    0.001460  0.003053  0.998540 -0.995487  7.613602e-01\n",
       "4    0.001460  0.007634  0.998540 -0.990907  7.588282e-01\n",
       "..        ...       ...       ...       ...           ...\n",
       "557  0.931387  0.996947  0.068613  0.928333  4.202859e-02\n",
       "558  0.931387  0.998473  0.068613  0.929860  4.047960e-02\n",
       "559  0.992701  0.998473  0.007299  0.991174  1.333337e-11\n",
       "560  0.992701  1.000000  0.007299  0.992701  7.391740e-12\n",
       "561  1.000000  1.000000  0.000000  1.000000  1.098372e-24\n",
       "\n",
       "[562 rows x 5 columns]"
      ]
     },
     "execution_count": 14,
     "metadata": {},
     "output_type": "execute_result"
    }
   ],
   "source": [
    "import pylab as pl\n",
    "i= np.arange(len(tpr))\n",
    "roc = pd.DataFrame({'fpr' : pd.Series(fpr, index=i), 'tpr': pd.Series(tpr, index =i), '1-fpr': pd.Series(1-fpr, index=i), 'tf': pd.Series(tpr-(1-fpr), index =i), 'thresholds': pd.Series(thresholds, index=i)})\n",
    "roc"
   ]
  },
  {
   "cell_type": "code",
   "execution_count": 15,
   "id": "43922c29",
   "metadata": {
    "ExecuteTime": {
     "end_time": "2023-04-26T20:34:19.133620Z",
     "start_time": "2023-04-26T20:34:18.837507Z"
    }
   },
   "outputs": [
    {
     "data": {
      "text/plain": [
       "Text(0, 0.5, 'True Positive rate')"
      ]
     },
     "execution_count": 15,
     "metadata": {},
     "output_type": "execute_result"
    },
    {
     "data": {
      "image/png": "[encoded data removed]",
      "text/plain": [
       "<Figure size 640x480 with 1 Axes>"
      ]
     },
     "metadata": {},
     "output_type": "display_data"
    }
   ],
   "source": [
    "# plot ROC\n",
    "plt.plot(fpr, tpr);plt.xlabel(\"false Positive rate\");plt.ylabel(\"True Positive rate\")\n"
   ]
  },
  {
   "cell_type": "code",
   "execution_count": 16,
   "id": "2166bcb0",
   "metadata": {
    "ExecuteTime": {
     "end_time": "2023-04-26T20:34:19.232280Z",
     "start_time": "2023-04-26T20:34:19.216276Z"
    }
   },
   "outputs": [
    {
     "name": "stdout",
     "output_type": "stream",
     "text": [
      "Area under the curve : 0.760892\n"
     ]
    }
   ],
   "source": [
    "roc_auc = auc(fpr, tpr)\n",
    "print(\"Area under the curve : %f\" % roc_auc)"
   ]
  },
  {
   "cell_type": "code",
   "execution_count": 17,
   "id": "baf30553",
   "metadata": {
    "ExecuteTime": {
     "end_time": "2023-04-26T20:34:19.685193Z",
     "start_time": "2023-04-26T20:34:19.669162Z"
    }
   },
   "outputs": [],
   "source": [
    "# taking new column with zeros\n",
    "c1[\"pred\"]= np.zeros(1340)\n",
    "c1.loc[pred > optimal_threshold, \"pred\"]=1"
   ]
  },
  {
   "cell_type": "code",
   "execution_count": 18,
   "id": "1f1fdf7a",
   "metadata": {
    "ExecuteTime": {
     "end_time": "2023-04-26T20:34:20.101516Z",
     "start_time": "2023-04-26T20:34:20.068929Z"
    }
   },
   "outputs": [
    {
     "name": "stdout",
     "output_type": "stream",
     "text": [
      "              precision    recall  f1-score   support\n",
      "\n",
      "         0.0       0.68      0.74      0.71       629\n",
      "         1.0       0.75      0.69      0.72       711\n",
      "\n",
      "    accuracy                           0.71      1340\n",
      "   macro avg       0.71      0.71      0.71      1340\n",
      "weighted avg       0.72      0.71      0.71      1340\n",
      "\n"
     ]
    }
   ],
   "source": [
    "# classification report\n",
    "from sklearn.metrics import classification_report\n",
    "classification = classification_report(c1[\"pred\"],c1[\"ATTORNEY\"])\n",
    "print(classification)"
   ]
  },
  {
   "cell_type": "code",
   "execution_count": 19,
   "id": "a3581930",
   "metadata": {
    "ExecuteTime": {
     "end_time": "2023-04-26T20:34:20.484449Z",
     "start_time": "2023-04-26T20:34:20.460014Z"
    }
   },
   "outputs": [],
   "source": [
    "# splitting the data into train and test\n",
    "from sklearn.model_selection import train_test_split\n",
    "train_data, test_data = train_test_split(c1, test_size= 0.3)"
   ]
  },
  {
   "cell_type": "code",
   "execution_count": 20,
   "id": "d9783711",
   "metadata": {
    "ExecuteTime": {
     "end_time": "2023-04-26T20:34:20.906790Z",
     "start_time": "2023-04-26T20:34:20.866497Z"
    }
   },
   "outputs": [
    {
     "name": "stdout",
     "output_type": "stream",
     "text": [
      "Optimization terminated successfully.\n",
      "         Current function value: 0.590737\n",
      "         Iterations 7\n"
     ]
    }
   ],
   "source": [
    "# model building\n",
    "model = sm.logit('ATTORNEY ~ CLMAGE + LOSS + CLMINSUR + CLMSEX + SEATBELT', data=train_data).fit()"
   ]
  },
  {
   "cell_type": "code",
   "execution_count": 21,
   "id": "f7a4aa4d",
   "metadata": {
    "ExecuteTime": {
     "end_time": "2023-04-26T20:34:21.283792Z",
     "start_time": "2023-04-26T20:34:21.211210Z"
    }
   },
   "outputs": [
    {
     "data": {
      "text/html": [
       "<table class=\"simpletable\">\n",
       "<tr>\n",
       "        <td>Model:</td>              <td>Logit</td>      <td>Pseudo R-squared:</td>    <td>0.147</td>  \n",
       "</tr>\n",
       "<tr>\n",
       "  <td>Dependent Variable:</td>     <td>ATTORNEY</td>           <td>AIC:</td>         <td>1120.2230</td>\n",
       "</tr>\n",
       "<tr>\n",
       "         <td>Date:</td>        <td>2023-04-29 10:21</td>       <td>BIC:</td>         <td>1149.2855</td>\n",
       "</tr>\n",
       "<tr>\n",
       "   <td>No. Observations:</td>         <td>938</td>        <td>Log-Likelihood:</td>    <td>-554.11</td> \n",
       "</tr>\n",
       "<tr>\n",
       "       <td>Df Model:</td>              <td>5</td>            <td>LL-Null:</td>        <td>-649.63</td> \n",
       "</tr>\n",
       "<tr>\n",
       "     <td>Df Residuals:</td>           <td>932</td>         <td>LLR p-value:</td>    <td>2.3540e-39</td>\n",
       "</tr>\n",
       "<tr>\n",
       "      <td>Converged:</td>           <td>1.0000</td>           <td>Scale:</td>         <td>1.0000</td>  \n",
       "</tr>\n",
       "<tr>\n",
       "    <td>No. Iterations:</td>        <td>7.0000</td>              <td></td>               <td></td>     \n",
       "</tr>\n",
       "</table>\n",
       "<table class=\"simpletable\">\n",
       "<tr>\n",
       "      <td></td>       <th>Coef.</th>  <th>Std.Err.</th>     <th>z</th>     <th>P>|z|</th> <th>[0.025</th>  <th>0.975]</th> \n",
       "</tr>\n",
       "<tr>\n",
       "  <th>Intercept</th> <td>-0.2269</td>  <td>0.2442</td>   <td>-0.9291</td> <td>0.3529</td> <td>-0.7055</td> <td>0.2518</td> \n",
       "</tr>\n",
       "<tr>\n",
       "  <th>CLMAGE</th>    <td>0.0105</td>   <td>0.0040</td>   <td>2.6590</td>  <td>0.0078</td> <td>0.0028</td>  <td>0.0183</td> \n",
       "</tr>\n",
       "<tr>\n",
       "  <th>LOSS</th>      <td>-0.4105</td>  <td>0.0395</td>  <td>-10.3811</td> <td>0.0000</td> <td>-0.4881</td> <td>-0.3330</td>\n",
       "</tr>\n",
       "<tr>\n",
       "  <th>CLMINSUR</th>  <td>0.5512</td>   <td>0.2256</td>   <td>2.4433</td>  <td>0.0146</td> <td>0.1090</td>  <td>0.9934</td> \n",
       "</tr>\n",
       "<tr>\n",
       "  <th>CLMSEX</th>    <td>0.4612</td>   <td>0.1466</td>   <td>3.1459</td>  <td>0.0017</td> <td>0.1739</td>  <td>0.7485</td> \n",
       "</tr>\n",
       "<tr>\n",
       "  <th>SEATBELT</th>  <td>-0.3742</td>  <td>0.5668</td>   <td>-0.6602</td> <td>0.5091</td> <td>-1.4851</td> <td>0.7367</td> \n",
       "</tr>\n",
       "</table>"
      ],
      "text/plain": [
       "<class 'statsmodels.iolib.summary2.Summary'>\n",
       "\"\"\"\n",
       "                         Results: Logit\n",
       "=================================================================\n",
       "Model:              Logit            Pseudo R-squared: 0.147     \n",
       "Dependent Variable: ATTORNEY         AIC:              1120.2230 \n",
       "Date:               2023-04-29 10:21 BIC:              1149.2855 \n",
       "No. Observations:   938              Log-Likelihood:   -554.11   \n",
       "Df Model:           5                LL-Null:          -649.63   \n",
       "Df Residuals:       932              LLR p-value:      2.3540e-39\n",
       "Converged:          1.0000           Scale:            1.0000    \n",
       "No. Iterations:     7.0000                                       \n",
       "------------------------------------------------------------------\n",
       "              Coef.   Std.Err.     z      P>|z|    [0.025   0.975]\n",
       "------------------------------------------------------------------\n",
       "Intercept    -0.2269    0.2442   -0.9291  0.3529  -0.7055   0.2518\n",
       "CLMAGE        0.0105    0.0040    2.6590  0.0078   0.0028   0.0183\n",
       "LOSS         -0.4105    0.0395  -10.3811  0.0000  -0.4881  -0.3330\n",
       "CLMINSUR      0.5512    0.2256    2.4433  0.0146   0.1090   0.9934\n",
       "CLMSEX        0.4612    0.1466    3.1459  0.0017   0.1739   0.7485\n",
       "SEATBELT     -0.3742    0.5668   -0.6602  0.5091  -1.4851   0.7367\n",
       "=================================================================\n",
       "\n",
       "\"\"\""
      ]
     },
     "execution_count": 21,
     "metadata": {},
     "output_type": "execute_result"
    }
   ],
   "source": [
    "model.summary2() # for AIC"
   ]
  },
  {
   "cell_type": "code",
   "execution_count": 22,
   "id": "744aac96",
   "metadata": {
    "ExecuteTime": {
     "end_time": "2023-04-26T20:34:21.663340Z",
     "start_time": "2023-04-26T20:34:21.632075Z"
    }
   },
   "outputs": [
    {
     "data": {
      "text/html": [
       "<table class=\"simpletable\">\n",
       "<caption>Logit Regression Results</caption>\n",
       "<tr>\n",
       "  <th>Dep. Variable:</th>       <td>ATTORNEY</td>     <th>  No. Observations:  </th>  <td>   938</td>  \n",
       "</tr>\n",
       "<tr>\n",
       "  <th>Model:</th>                 <td>Logit</td>      <th>  Df Residuals:      </th>  <td>   932</td>  \n",
       "</tr>\n",
       "<tr>\n",
       "  <th>Method:</th>                 <td>MLE</td>       <th>  Df Model:          </th>  <td>     5</td>  \n",
       "</tr>\n",
       "<tr>\n",
       "  <th>Date:</th>            <td>Sat, 29 Apr 2023</td> <th>  Pseudo R-squ.:     </th>  <td>0.1470</td>  \n",
       "</tr>\n",
       "<tr>\n",
       "  <th>Time:</th>                <td>10:21:20</td>     <th>  Log-Likelihood:    </th> <td> -554.11</td> \n",
       "</tr>\n",
       "<tr>\n",
       "  <th>converged:</th>             <td>True</td>       <th>  LL-Null:           </th> <td> -649.63</td> \n",
       "</tr>\n",
       "<tr>\n",
       "  <th>Covariance Type:</th>     <td>nonrobust</td>    <th>  LLR p-value:       </th> <td>2.354e-39</td>\n",
       "</tr>\n",
       "</table>\n",
       "<table class=\"simpletable\">\n",
       "<tr>\n",
       "      <td></td>         <th>coef</th>     <th>std err</th>      <th>z</th>      <th>P>|z|</th>  <th>[0.025</th>    <th>0.975]</th>  \n",
       "</tr>\n",
       "<tr>\n",
       "  <th>Intercept</th> <td>   -0.2269</td> <td>    0.244</td> <td>   -0.929</td> <td> 0.353</td> <td>   -0.706</td> <td>    0.252</td>\n",
       "</tr>\n",
       "<tr>\n",
       "  <th>CLMAGE</th>    <td>    0.0105</td> <td>    0.004</td> <td>    2.659</td> <td> 0.008</td> <td>    0.003</td> <td>    0.018</td>\n",
       "</tr>\n",
       "<tr>\n",
       "  <th>LOSS</th>      <td>   -0.4105</td> <td>    0.040</td> <td>  -10.381</td> <td> 0.000</td> <td>   -0.488</td> <td>   -0.333</td>\n",
       "</tr>\n",
       "<tr>\n",
       "  <th>CLMINSUR</th>  <td>    0.5512</td> <td>    0.226</td> <td>    2.443</td> <td> 0.015</td> <td>    0.109</td> <td>    0.993</td>\n",
       "</tr>\n",
       "<tr>\n",
       "  <th>CLMSEX</th>    <td>    0.4612</td> <td>    0.147</td> <td>    3.146</td> <td> 0.002</td> <td>    0.174</td> <td>    0.749</td>\n",
       "</tr>\n",
       "<tr>\n",
       "  <th>SEATBELT</th>  <td>   -0.3742</td> <td>    0.567</td> <td>   -0.660</td> <td> 0.509</td> <td>   -1.485</td> <td>    0.737</td>\n",
       "</tr>\n",
       "</table>"
      ],
      "text/plain": [
       "<class 'statsmodels.iolib.summary.Summary'>\n",
       "\"\"\"\n",
       "                           Logit Regression Results                           \n",
       "==============================================================================\n",
       "Dep. Variable:               ATTORNEY   No. Observations:                  938\n",
       "Model:                          Logit   Df Residuals:                      932\n",
       "Method:                           MLE   Df Model:                            5\n",
       "Date:                Sat, 29 Apr 2023   Pseudo R-squ.:                  0.1470\n",
       "Time:                        10:21:20   Log-Likelihood:                -554.11\n",
       "converged:                       True   LL-Null:                       -649.63\n",
       "Covariance Type:            nonrobust   LLR p-value:                 2.354e-39\n",
       "==============================================================================\n",
       "                 coef    std err          z      P>|z|      [0.025      0.975]\n",
       "------------------------------------------------------------------------------\n",
       "Intercept     -0.2269      0.244     -0.929      0.353      -0.706       0.252\n",
       "CLMAGE         0.0105      0.004      2.659      0.008       0.003       0.018\n",
       "LOSS          -0.4105      0.040    -10.381      0.000      -0.488      -0.333\n",
       "CLMINSUR       0.5512      0.226      2.443      0.015       0.109       0.993\n",
       "CLMSEX         0.4612      0.147      3.146      0.002       0.174       0.749\n",
       "SEATBELT      -0.3742      0.567     -0.660      0.509      -1.485       0.737\n",
       "==============================================================================\n",
       "\"\"\""
      ]
     },
     "execution_count": 22,
     "metadata": {},
     "output_type": "execute_result"
    }
   ],
   "source": [
    "model.summary()"
   ]
  },
  {
   "cell_type": "code",
   "execution_count": 23,
   "id": "598357da",
   "metadata": {
    "ExecuteTime": {
     "end_time": "2023-04-26T20:34:22.002487Z",
     "start_time": "2023-04-26T20:34:21.978071Z"
    }
   },
   "outputs": [
    {
     "data": {
      "text/plain": [
       "1335    5.954771e-01\n",
       "149     6.701355e-01\n",
       "174     4.462755e-01\n",
       "960     2.475076e-01\n",
       "557     6.005707e-01\n",
       "            ...     \n",
       "791     5.000312e-14\n",
       "723     3.205810e-01\n",
       "291     3.996484e-01\n",
       "1025    4.469004e-01\n",
       "728     2.986571e-01\n",
       "Length: 402, dtype: float64"
      ]
     },
     "execution_count": 23,
     "metadata": {},
     "output_type": "execute_result"
    }
   ],
   "source": [
    "test_pred = model.predict(test_data)\n",
    "test_pred"
   ]
  },
  {
   "cell_type": "code",
   "execution_count": 24,
   "id": "a23b0861",
   "metadata": {
    "ExecuteTime": {
     "end_time": "2023-04-26T20:34:22.358613Z",
     "start_time": "2023-04-26T20:34:22.350608Z"
    }
   },
   "outputs": [],
   "source": [
    "test_data[\"test_pred\"]=np.zeros(402)"
   ]
  },
  {
   "cell_type": "code",
   "execution_count": 25,
   "id": "07e24df6",
   "metadata": {
    "ExecuteTime": {
     "end_time": "2023-04-26T20:34:22.705487Z",
     "start_time": "2023-04-26T20:34:22.689433Z"
    }
   },
   "outputs": [],
   "source": [
    "test_data.loc[test_pred > optimal_threshold,\"test_pred\"]=1"
   ]
  },
  {
   "cell_type": "code",
   "execution_count": 26,
   "id": "dc3fb704",
   "metadata": {
    "ExecuteTime": {
     "end_time": "2023-04-26T20:34:23.060296Z",
     "start_time": "2023-04-26T20:34:23.011083Z"
    }
   },
   "outputs": [
    {
     "data": {
      "text/html": [
       "<div>\n",
       "<style scoped>\n",
       "    .dataframe tbody tr th:only-of-type {\n",
       "        vertical-align: middle;\n",
       "    }\n",
       "\n",
       "    .dataframe tbody tr th {\n",
       "        vertical-align: top;\n",
       "    }\n",
       "\n",
       "    .dataframe thead th {\n",
       "        text-align: right;\n",
       "    }\n",
       "</style>\n",
       "<table border=\"1\" class=\"dataframe\">\n",
       "  <thead>\n",
       "    <tr style=\"text-align: right;\">\n",
       "      <th>ATTORNEY</th>\n",
       "      <th>0</th>\n",
       "      <th>1</th>\n",
       "    </tr>\n",
       "    <tr>\n",
       "      <th>test_pred</th>\n",
       "      <th></th>\n",
       "      <th></th>\n",
       "    </tr>\n",
       "  </thead>\n",
       "  <tbody>\n",
       "    <tr>\n",
       "      <th>0.0</th>\n",
       "      <td>140</td>\n",
       "      <td>54</td>\n",
       "    </tr>\n",
       "    <tr>\n",
       "      <th>1.0</th>\n",
       "      <td>60</td>\n",
       "      <td>148</td>\n",
       "    </tr>\n",
       "  </tbody>\n",
       "</table>\n",
       "</div>"
      ],
      "text/plain": [
       "ATTORNEY     0    1\n",
       "test_pred          \n",
       "0.0        140   54\n",
       "1.0         60  148"
      ]
     },
     "execution_count": 26,
     "metadata": {},
     "output_type": "execute_result"
    }
   ],
   "source": [
    "confusion_matrix = pd.crosstab(test_data.test_pred, test_data[\"ATTORNEY\"])\n",
    "confusion_matrix"
   ]
  },
  {
   "cell_type": "code",
   "execution_count": 27,
   "id": "e9876f10",
   "metadata": {
    "ExecuteTime": {
     "end_time": "2023-04-26T20:34:23.342325Z",
     "start_time": "2023-04-26T20:34:23.326095Z"
    }
   },
   "outputs": [
    {
     "data": {
      "text/plain": [
       "0.6915422885572139"
      ]
     },
     "execution_count": 27,
     "metadata": {},
     "output_type": "execute_result"
    }
   ],
   "source": [
    "accuracy_test = (120+158)/(402)\n",
    "accuracy_test"
   ]
  },
  {
   "cell_type": "code",
   "execution_count": 28,
   "id": "7f798325",
   "metadata": {
    "ExecuteTime": {
     "end_time": "2023-04-26T20:34:23.777363Z",
     "start_time": "2023-04-26T20:34:23.752893Z"
    }
   },
   "outputs": [
    {
     "name": "stdout",
     "output_type": "stream",
     "text": [
      "              precision    recall  f1-score   support\n",
      "\n",
      "         0.0       0.70      0.72      0.71       194\n",
      "         1.0       0.73      0.71      0.72       208\n",
      "\n",
      "    accuracy                           0.72       402\n",
      "   macro avg       0.72      0.72      0.72       402\n",
      "weighted avg       0.72      0.72      0.72       402\n",
      "\n"
     ]
    }
   ],
   "source": [
    "classification_test = classification_report(test_data[\"test_pred\"], test_data[\"ATTORNEY\"])\n",
    "print(classification_test)"
   ]
  },
  {
   "cell_type": "code",
   "execution_count": 29,
   "id": "2eaec5b7",
   "metadata": {
    "ExecuteTime": {
     "end_time": "2023-04-26T20:34:24.356344Z",
     "start_time": "2023-04-26T20:34:24.110159Z"
    }
   },
   "outputs": [
    {
     "data": {
      "text/plain": [
       "Text(0, 0.5, 'True positive rate')"
      ]
     },
     "execution_count": 29,
     "metadata": {},
     "output_type": "execute_result"
    },
    {
     "data": {
      "image/png": "[encoded data removed]",
      "text/plain": [
       "<Figure size 640x480 with 1 Axes>"
      ]
     },
     "metadata": {},
     "output_type": "display_data"
    }
   ],
   "source": [
    "fpr, tpr, threshold = metrics.roc_curve(test_data[\"ATTORNEY\"], test_pred)\n",
    "plt.plot(fpr,tpr);plt.xlabel('False positive rate'); plt.ylabel(\"True positive rate\")"
   ]
  },
  {
   "cell_type": "code",
   "execution_count": 30,
   "id": "be7b2a32",
   "metadata": {
    "ExecuteTime": {
     "end_time": "2023-04-26T20:34:24.518698Z",
     "start_time": "2023-04-26T20:34:24.502703Z"
    }
   },
   "outputs": [
    {
     "data": {
      "text/plain": [
       "0.7695544554455446"
      ]
     },
     "execution_count": 30,
     "metadata": {},
     "output_type": "execute_result"
    }
   ],
   "source": [
    "roc_auc_test= metrics.auc(fpr, tpr)\n",
    "roc_auc_test"
   ]
  },
  {
   "cell_type": "code",
   "execution_count": 31,
   "id": "64b2f635",
   "metadata": {
    "ExecuteTime": {
     "end_time": "2023-04-26T20:34:24.926487Z",
     "start_time": "2023-04-26T20:34:24.893699Z"
    }
   },
   "outputs": [
    {
     "name": "stdout",
     "output_type": "stream",
     "text": [
      "273     4.130260e-01\n",
      "537     4.656016e-01\n",
      "992     5.532238e-01\n",
      "775     3.623207e-01\n",
      "47      5.829394e-01\n",
      "            ...     \n",
      "990     9.553821e-02\n",
      "213     4.174142e-01\n",
      "631     5.731640e-01\n",
      "1147    7.947024e-08\n",
      "807     2.243428e-20\n",
      "Length: 938, dtype: float64\n"
     ]
    }
   ],
   "source": [
    "#Prediction on train data \n",
    "train_pred= model.predict(train_data.iloc[ :, 1: ])\n",
    "print(train_pred)"
   ]
  },
  {
   "cell_type": "code",
   "execution_count": 32,
   "id": "c2ad1950",
   "metadata": {
    "ExecuteTime": {
     "end_time": "2023-04-26T20:34:25.250939Z",
     "start_time": "2023-04-26T20:34:25.234726Z"
    }
   },
   "outputs": [],
   "source": [
    "#creating new column and filling with zeros\n",
    "train_data[\"train_pred\"]= np.zeros(938)\n",
    "train_data.loc[train_pred > optimal_threshold, \"train_pred\"]=1"
   ]
  },
  {
   "cell_type": "code",
   "execution_count": 33,
   "id": "7130ff06",
   "metadata": {
    "ExecuteTime": {
     "end_time": "2023-04-26T20:34:25.607750Z",
     "start_time": "2023-04-26T20:34:25.566433Z"
    }
   },
   "outputs": [
    {
     "data": {
      "text/html": [
       "<div>\n",
       "<style scoped>\n",
       "    .dataframe tbody tr th:only-of-type {\n",
       "        vertical-align: middle;\n",
       "    }\n",
       "\n",
       "    .dataframe tbody tr th {\n",
       "        vertical-align: top;\n",
       "    }\n",
       "\n",
       "    .dataframe thead th {\n",
       "        text-align: right;\n",
       "    }\n",
       "</style>\n",
       "<table border=\"1\" class=\"dataframe\">\n",
       "  <thead>\n",
       "    <tr style=\"text-align: right;\">\n",
       "      <th>ATTORNEY</th>\n",
       "      <th>0</th>\n",
       "      <th>1</th>\n",
       "    </tr>\n",
       "    <tr>\n",
       "      <th>train_pred</th>\n",
       "      <th></th>\n",
       "      <th></th>\n",
       "    </tr>\n",
       "  </thead>\n",
       "  <tbody>\n",
       "    <tr>\n",
       "      <th>0.0</th>\n",
       "      <td>331</td>\n",
       "      <td>120</td>\n",
       "    </tr>\n",
       "    <tr>\n",
       "      <th>1.0</th>\n",
       "      <td>154</td>\n",
       "      <td>333</td>\n",
       "    </tr>\n",
       "  </tbody>\n",
       "</table>\n",
       "</div>"
      ],
      "text/plain": [
       "ATTORNEY      0    1\n",
       "train_pred          \n",
       "0.0         331  120\n",
       "1.0         154  333"
      ]
     },
     "execution_count": 33,
     "metadata": {},
     "output_type": "execute_result"
    }
   ],
   "source": [
    "confusion_matrix = pd.crosstab(train_data.train_pred, train_data[\"ATTORNEY\"])\n",
    "confusion_matrix"
   ]
  },
  {
   "cell_type": "code",
   "execution_count": 34,
   "id": "0e3c6893",
   "metadata": {
    "ExecuteTime": {
     "end_time": "2023-04-26T20:34:26.210052Z",
     "start_time": "2023-04-26T20:34:26.186830Z"
    }
   },
   "outputs": [
    {
     "data": {
      "text/plain": [
       "0.7142857142857143"
      ]
     },
     "execution_count": 34,
     "metadata": {},
     "output_type": "execute_result"
    }
   ],
   "source": [
    "accuracy_train = (347+323)/(938)\n",
    "accuracy_train"
   ]
  },
  {
   "cell_type": "code",
   "execution_count": 35,
   "id": "0bab2969",
   "metadata": {
    "ExecuteTime": {
     "end_time": "2023-04-26T20:34:26.539141Z",
     "start_time": "2023-04-26T20:34:26.515117Z"
    }
   },
   "outputs": [],
   "source": [
    "import pickle\n",
    "pickle.dump(model,open(\"logit.pkl\",\"wb\"))"
   ]
  },
  {
   "cell_type": "code",
   "execution_count": 36,
   "id": "5c0e63e8",
   "metadata": {
    "ExecuteTime": {
     "start_time": "2023-04-26T20:34:33.364Z"
    }
   },
   "outputs": [
    {
     "name": "stdout",
     "output_type": "stream",
     "text": [
      "<statsmodels.discrete.discrete_model.BinaryResultsWrapper object at 0x0000020A101FB110>\n"
     ]
    }
   ],
   "source": [
    "model = pickle.load(open(\"C://Users//ajay//OneDrive//Desktop//DE final project//logit.pkl\",\"rb\"))\n",
    "print(model)"
   ]
  },
  {
   "cell_type": "code",
   "execution_count": 37,
   "id": "4d8d6cb2",
   "metadata": {},
   "outputs": [
    {
     "data": {
      "text/plain": [
       "1335    5.939766e-01\n",
       "149     6.698432e-01\n",
       "174     4.514131e-01\n",
       "960     3.239482e-01\n",
       "557     5.959329e-01\n",
       "            ...     \n",
       "791     2.837296e-11\n",
       "723     3.872422e-01\n",
       "291     4.464120e-01\n",
       "1025    4.559788e-01\n",
       "728     3.783723e-01\n",
       "Length: 402, dtype: float64"
      ]
     },
     "execution_count": 37,
     "metadata": {},
     "output_type": "execute_result"
    }
   ],
   "source": [
    "test_pred = model.predict(test_data)\n",
    "test_pred"
   ]
  },
  {
   "cell_type": "code",
   "execution_count": 38,
   "id": "d0718887",
   "metadata": {},
   "outputs": [
    {
     "data": {
      "text/plain": [
       "pandas.core.frame.DataFrame"
      ]
     },
     "execution_count": 38,
     "metadata": {},
     "output_type": "execute_result"
    }
   ],
   "source": [
    "type(test_data)"
   ]
  }
 ],
 "metadata": {
  "kernelspec": {
   "display_name": "Python 3 (ipykernel)",
   "language": "python",
   "name": "python3"
  },
  "language_info": {
   "codemirror_mode": {
    "name": "ipython",
    "version": 3
   },
   "file_extension": ".py",
   "mimetype": "text/x-python",
   "name": "python",
   "nbconvert_exporter": "python",
   "pygments_lexer": "ipython3",
   "version": "3.11.2"
  }
 },
 "nbformat": 4,
 "nbformat_minor": 5
}
